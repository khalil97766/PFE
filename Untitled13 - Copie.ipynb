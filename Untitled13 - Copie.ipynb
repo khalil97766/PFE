{
 "cells": [
  {
   "cell_type": "code",
   "execution_count": null,
   "id": "46b95928-bf08-4779-93f3-0f48ca160bfc",
   "metadata": {},
   "outputs": [],
   "source": []
  }
 ],
 "metadata": {
  "kernelspec": {
   "display_name": "",
   "name": ""
  },
  "language_info": {
   "name": ""
  }
 },
 "nbformat": 4,
 "nbformat_minor": 5
}
