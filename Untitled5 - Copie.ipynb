{
 "cells": [
  {
   "cell_type": "code",
   "execution_count": 1,
   "id": "57647757-861f-4a07-b277-2105d0f8fb69",
   "metadata": {},
   "outputs": [],
   "source": [
    "import geopandas as gpd\n",
    "import networkx as nx\n",
    "import matplotlib.pyplot as plt\n",
    "import random\n",
    "import numpy as np\n",
    "from shapely.geometry import LineString, Point"
   ]
  },
  {
   "cell_type": "code",
   "execution_count": 2,
   "id": "3a062b77-1646-42b3-9ca7-237c8c0fb17c",
   "metadata": {},
   "outputs": [
    {
     "name": "stdout",
     "output_type": "stream",
     "text": [
      "Start: (5.0791169, 36.7541373)\n",
      "End: (5.0666471, 36.720511)\n"
     ]
    }
   ],
   "source": [
    "# --- Load data ---\n",
    "gdf_rute = gpd.read_file(\"C:/Users/acer/Downloads/rute.geojson\")\n",
    "gdf_bulding = gpd.read_file(\"C:/Users/acer/Downloads/bulding.geojson\")\n",
    "\n",
    "# --- Build the graph ---\n",
    "G = nx.Graph()\n",
    "for _, row in gdf_rute.iterrows():\n",
    "    if isinstance(row.geometry, LineString):\n",
    "        coords = list(row.geometry.coords)\n",
    "        for i in range(len(coords) - 1):\n",
    "            p1, p2 = coords[i], coords[i + 1]\n",
    "            dist = LineString([p1, p2]).length\n",
    "            G.add_edge(p1, p2, weight=dist)\n",
    "\n",
    "# --- Find start and end nodes ---\n",
    "valid_buildings = gdf_bulding[gdf_bulding.is_valid & gdf_bulding.geometry.type.isin(['Polygon', 'MultiPolygon'])]\n",
    "building_geom = valid_buildings.geometry.iloc[0]\n",
    "building_point = building_geom.centroid\n",
    "\n",
    "graph_nodes = [Point(n) for n in G.nodes]\n",
    "start_node_idx = min(range(len(graph_nodes)), key=lambda i: building_point.distance(graph_nodes[i]))\n",
    "start_node = list(G.nodes)[start_node_idx]\n",
    "end_node = random.choice(list(G.nodes))\n",
    "\n",
    "print(\"Start:\", start_node)\n",
    "print(\"End:\", end_node)\n",
    "\n",
    "# --- PSO Config ---\n",
    "num_particles = 30\n",
    "num_iterations = 100\n",
    "c1, c2 = 2.0, 2.0\n",
    "w = 0.7\n",
    "\n",
    "# --- Helper function: decode particle to path ---\n"
   ]
  },
  {
   "cell_type": "code",
   "execution_count": 3,
   "id": "9cc0dd3a-3b37-4108-9415-fa623ed1c6f6",
   "metadata": {},
   "outputs": [],
   "source": [
    "def decode_particle(particle):\n",
    "    ordered_nodes = [start_node]\n",
    "    for i in np.argsort(particle):\n",
    "        node = list(G.nodes)[i]\n",
    "        if node not in ordered_nodes:\n",
    "            ordered_nodes.append(node)\n",
    "        if node == end_node:\n",
    "            break\n",
    "    return ordered_nodes\n",
    "\n",
    "\n"
   ]
  },
  {
   "cell_type": "code",
   "execution_count": null,
   "id": "4d8b59d3-3119-45e4-ba99-745b44184b0b",
   "metadata": {},
   "outputs": [],
   "source": [
    "# --- Fitness function ---\n",
    "def fitness(path):\n",
    "    cost = 0\n",
    "    for i in range(len(path) - 1):\n",
    "        if G.has_edge(path[i], path[i + 1]):\n",
    "            cost += G[path[i]][path[i + 1]]['weight']\n",
    "        else:\n",
    "            return float(\"inf\")  # invalid path\n",
    "    if path[-1] != end_node:\n",
    "        return float(\"inf\")\n",
    "    return cost\n",
    "\n"
   ]
  }
 ],
 "metadata": {
  "kernelspec": {
   "display_name": "Python 3 (ipykernel)",
   "language": "python",
   "name": "python3"
  },
  "language_info": {
   "codemirror_mode": {
    "name": "ipython",
    "version": 3
   },
   "file_extension": ".py",
   "mimetype": "text/x-python",
   "name": "python",
   "nbconvert_exporter": "python",
   "pygments_lexer": "ipython3",
   "version": "3.12.7"
  }
 },
 "nbformat": 4,
 "nbformat_minor": 5
}
